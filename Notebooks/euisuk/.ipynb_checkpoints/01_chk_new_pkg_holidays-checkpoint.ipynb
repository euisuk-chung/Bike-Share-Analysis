{
 "cells": [
  {
   "cell_type": "code",
   "execution_count": 1,
   "metadata": {},
   "outputs": [],
   "source": [
    "import pandas as pd\n",
    "from datetime import date\n",
    "import holidays"
   ]
  },
  {
   "cell_type": "code",
   "execution_count": 2,
   "metadata": {},
   "outputs": [],
   "source": [
    "kor_holidays = holidays.Korea()"
   ]
  },
  {
   "cell_type": "code",
   "execution_count": 3,
   "metadata": {},
   "outputs": [
    {
     "data": {
      "text/plain": [
       "'Liberation Day'"
      ]
     },
     "execution_count": 3,
     "metadata": {},
     "output_type": "execute_result"
    }
   ],
   "source": [
    "kor_holidays.get('2020-08-15')"
   ]
  },
  {
   "cell_type": "code",
   "execution_count": 4,
   "metadata": {},
   "outputs": [
    {
     "data": {
      "text/plain": [
       "holidays.countries.korea.Korea"
      ]
     },
     "execution_count": 4,
     "metadata": {},
     "output_type": "execute_result"
    }
   ],
   "source": [
    "type(kor_holidays)"
   ]
  },
  {
   "cell_type": "code",
   "execution_count": 5,
   "metadata": {},
   "outputs": [
    {
     "name": "stdout",
     "output_type": "stream",
     "text": [
      "2016-01-01 New Year's Day\n",
      "2016-02-07 The day preceding of Lunar New Year's Day\n",
      "2016-02-08 Lunar New Year's Day\n",
      "2016-02-09 The second day of Lunar New Year's Day\n",
      "2016-02-10 Alternative holiday of Lunar New Year's Day\n",
      "2016-03-01 Independence Movement Day\n",
      "2016-05-01 Labour Day\n",
      "2016-05-05 Children's Day\n",
      "2016-05-14 Birthday of the Buddha\n",
      "2016-06-06 Memorial Day\n",
      "2016-08-15 Liberation Day\n",
      "2016-09-14 The day preceding of Chuseok\n",
      "2016-09-15 Chuseok\n",
      "2016-09-16 The second day of Chuseok\n",
      "2016-10-03 National Foundation Day\n",
      "2016-10-09 Hangeul Day\n",
      "2016-12-25 Christmas Day\n"
     ]
    }
   ],
   "source": [
    "for date, name in sorted(holidays.KR(years=2016).items()):\n",
    "    print(date, name)"
   ]
  },
  {
   "cell_type": "code",
   "execution_count": 6,
   "metadata": {},
   "outputs": [
    {
     "name": "stdout",
     "output_type": "stream",
     "text": [
      "2017-01-01 New Year's Day\n",
      "2017-01-02 Alternative holiday of new Year's Day\n",
      "2017-01-27 The day preceding of Lunar New Year's Day\n",
      "2017-01-28 Lunar New Year's Day\n",
      "2017-01-29 The second day of Lunar New Year's Day\n",
      "2017-01-30 Alternative holiday of Lunar New Year's Day\n",
      "2017-03-01 Independence Movement Day\n",
      "2017-05-01 Labour Day\n",
      "2017-05-03 Birthday of the Buddha\n",
      "2017-05-05 Children's Day\n",
      "2017-06-06 Memorial Day\n",
      "2017-08-15 Liberation Day\n",
      "2017-10-03 National Foundation Day, The day preceding of Chuseok\n",
      "2017-10-04 Chuseok\n",
      "2017-10-05 The second day of Chuseok\n",
      "2017-10-09 Hangeul Day\n",
      "2017-12-25 Christmas Day\n"
     ]
    }
   ],
   "source": [
    "for date, name in sorted(holidays.KR(years=2017).items()):\n",
    "    print(date, name)"
   ]
  },
  {
   "cell_type": "code",
   "execution_count": 7,
   "metadata": {},
   "outputs": [],
   "source": [
    "yrs = [2018, 2019,2020]"
   ]
  },
  {
   "cell_type": "code",
   "execution_count": 8,
   "metadata": {},
   "outputs": [],
   "source": [
    "holiday_df = pd.DataFrame(columns = ['date', 'name', 'is_holiday'])\n",
    "\n",
    "for yr in yrs:\n",
    "    for date, name in sorted(holidays.KR(years=yr).items()):\n",
    "        holiday_df=holiday_df.append({\"date\" : date, \n",
    "                                      \"name\" : name,\n",
    "                                      \"is_holiday\" : 1},ignore_index=True)"
   ]
  },
  {
   "cell_type": "code",
   "execution_count": 9,
   "metadata": {},
   "outputs": [
    {
     "data": {
      "text/html": [
       "<div>\n",
       "<style scoped>\n",
       "    .dataframe tbody tr th:only-of-type {\n",
       "        vertical-align: middle;\n",
       "    }\n",
       "\n",
       "    .dataframe tbody tr th {\n",
       "        vertical-align: top;\n",
       "    }\n",
       "\n",
       "    .dataframe thead th {\n",
       "        text-align: right;\n",
       "    }\n",
       "</style>\n",
       "<table border=\"1\" class=\"dataframe\">\n",
       "  <thead>\n",
       "    <tr style=\"text-align: right;\">\n",
       "      <th></th>\n",
       "      <th>date</th>\n",
       "      <th>name</th>\n",
       "      <th>is_holiday</th>\n",
       "    </tr>\n",
       "  </thead>\n",
       "  <tbody>\n",
       "    <tr>\n",
       "      <th>0</th>\n",
       "      <td>2018-01-01</td>\n",
       "      <td>New Year's Day</td>\n",
       "      <td>1</td>\n",
       "    </tr>\n",
       "    <tr>\n",
       "      <th>1</th>\n",
       "      <td>2018-02-15</td>\n",
       "      <td>The day preceding of Lunar New Year's Day</td>\n",
       "      <td>1</td>\n",
       "    </tr>\n",
       "    <tr>\n",
       "      <th>2</th>\n",
       "      <td>2018-02-16</td>\n",
       "      <td>Lunar New Year's Day</td>\n",
       "      <td>1</td>\n",
       "    </tr>\n",
       "    <tr>\n",
       "      <th>3</th>\n",
       "      <td>2018-02-17</td>\n",
       "      <td>The second day of Lunar New Year's Day</td>\n",
       "      <td>1</td>\n",
       "    </tr>\n",
       "    <tr>\n",
       "      <th>4</th>\n",
       "      <td>2018-03-01</td>\n",
       "      <td>Independence Movement Day</td>\n",
       "      <td>1</td>\n",
       "    </tr>\n",
       "  </tbody>\n",
       "</table>\n",
       "</div>"
      ],
      "text/plain": [
       "         date                                       name is_holiday\n",
       "0  2018-01-01                             New Year's Day          1\n",
       "1  2018-02-15  The day preceding of Lunar New Year's Day          1\n",
       "2  2018-02-16                       Lunar New Year's Day          1\n",
       "3  2018-02-17     The second day of Lunar New Year's Day          1\n",
       "4  2018-03-01                  Independence Movement Day          1"
      ]
     },
     "execution_count": 9,
     "metadata": {},
     "output_type": "execute_result"
    }
   ],
   "source": [
    "holiday_df.head()"
   ]
  },
  {
   "cell_type": "code",
   "execution_count": 10,
   "metadata": {},
   "outputs": [],
   "source": [
    "holiday_df.to_csv('../../Data/kor_holidays.csv', index =False)"
   ]
  },
  {
   "cell_type": "code",
   "execution_count": null,
   "metadata": {},
   "outputs": [],
   "source": []
  }
 ],
 "metadata": {
  "kernelspec": {
   "display_name": "Python 3",
   "language": "python",
   "name": "python3"
  },
  "language_info": {
   "codemirror_mode": {
    "name": "ipython",
    "version": 3
   },
   "file_extension": ".py",
   "mimetype": "text/x-python",
   "name": "python",
   "nbconvert_exporter": "python",
   "pygments_lexer": "ipython3",
   "version": "3.6.10"
  }
 },
 "nbformat": 4,
 "nbformat_minor": 4
}
