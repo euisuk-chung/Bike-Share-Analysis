{
 "cells": [
  {
   "cell_type": "code",
   "execution_count": 3,
   "metadata": {},
   "outputs": [],
   "source": [
    "import os\n",
    "import pandas as pd\n",
    "import numpy as np\n",
    "import glob\n",
    "import fnmatch"
   ]
  },
  {
   "cell_type": "code",
   "execution_count": 4,
   "metadata": {},
   "outputs": [],
   "source": [
    "# ADD Directory\n",
    "path = 'C:\\\\Users\\\\chung_es\\\\Desktop\\\\courses\\\\sem_20_02\\\\예측모델\\\\팀플\\\\data'"
   ]
  },
  {
   "cell_type": "code",
   "execution_count": 6,
   "metadata": {
    "scrolled": true
   },
   "outputs": [],
   "source": [
    "# get file nams and folders\n",
    "l=os.listdir(path)\n",
    "li=[x.split('.')[0] for x in l]"
   ]
  },
  {
   "cell_type": "code",
   "execution_count": 7,
   "metadata": {},
   "outputs": [
    {
     "data": {
      "text/plain": [
       "['1_서울특별시 공공자전거 이용정보(시간대별)_202006.csv',\n",
       " '2_서울특별시 공공자전거 이용정보(시간대별)_201912_202006.csv',\n",
       " 'excel']"
      ]
     },
     "execution_count": 7,
     "metadata": {},
     "output_type": "execute_result"
    }
   ],
   "source": [
    "l"
   ]
  },
  {
   "cell_type": "code",
   "execution_count": 45,
   "metadata": {
    "scrolled": true
   },
   "outputs": [
    {
     "data": {
      "text/plain": [
       "['C:\\\\Users\\\\chung_es\\\\Desktop\\\\courses\\\\sem_20_02\\\\예측모델\\\\팀플\\\\data\\\\bike_2017_01.xlsx',\n",
       " 'C:\\\\Users\\\\chung_es\\\\Desktop\\\\courses\\\\sem_20_02\\\\예측모델\\\\팀플\\\\data\\\\bike_2017_02.xlsx',\n",
       " 'C:\\\\Users\\\\chung_es\\\\Desktop\\\\courses\\\\sem_20_02\\\\예측모델\\\\팀플\\\\data\\\\bike_2017_03.xlsx',\n",
       " 'C:\\\\Users\\\\chung_es\\\\Desktop\\\\courses\\\\sem_20_02\\\\예측모델\\\\팀플\\\\data\\\\bike_2017_04.xlsx',\n",
       " 'C:\\\\Users\\\\chung_es\\\\Desktop\\\\courses\\\\sem_20_02\\\\예측모델\\\\팀플\\\\data\\\\bike_2017_05.xlsx',\n",
       " 'C:\\\\Users\\\\chung_es\\\\Desktop\\\\courses\\\\sem_20_02\\\\예측모델\\\\팀플\\\\data\\\\bike_2017_06.xlsx',\n",
       " 'C:\\\\Users\\\\chung_es\\\\Desktop\\\\courses\\\\sem_20_02\\\\예측모델\\\\팀플\\\\data\\\\bike_2018_01.xlsx',\n",
       " 'C:\\\\Users\\\\chung_es\\\\Desktop\\\\courses\\\\sem_20_02\\\\예측모델\\\\팀플\\\\data\\\\bike_2018_02.xlsx',\n",
       " 'C:\\\\Users\\\\chung_es\\\\Desktop\\\\courses\\\\sem_20_02\\\\예측모델\\\\팀플\\\\data\\\\bike_2018_03.xlsx',\n",
       " 'C:\\\\Users\\\\chung_es\\\\Desktop\\\\courses\\\\sem_20_02\\\\예측모델\\\\팀플\\\\data\\\\bike_2018_04.xlsx',\n",
       " 'C:\\\\Users\\\\chung_es\\\\Desktop\\\\courses\\\\sem_20_02\\\\예측모델\\\\팀플\\\\data\\\\bike_2018_05.xlsx',\n",
       " 'C:\\\\Users\\\\chung_es\\\\Desktop\\\\courses\\\\sem_20_02\\\\예측모델\\\\팀플\\\\data\\\\bike_2018_06.xlsx',\n",
       " 'C:\\\\Users\\\\chung_es\\\\Desktop\\\\courses\\\\sem_20_02\\\\예측모델\\\\팀플\\\\data\\\\bike_2018_07.xlsx',\n",
       " 'C:\\\\Users\\\\chung_es\\\\Desktop\\\\courses\\\\sem_20_02\\\\예측모델\\\\팀플\\\\data\\\\bike_2018_08.xlsx',\n",
       " 'C:\\\\Users\\\\chung_es\\\\Desktop\\\\courses\\\\sem_20_02\\\\예측모델\\\\팀플\\\\data\\\\bike_2018_09.xlsx',\n",
       " 'C:\\\\Users\\\\chung_es\\\\Desktop\\\\courses\\\\sem_20_02\\\\예측모델\\\\팀플\\\\data\\\\bike_2018_2019_01.xlsx']"
      ]
     },
     "execution_count": 45,
     "metadata": {},
     "output_type": "execute_result"
    }
   ],
   "source": [
    "configfiles"
   ]
  },
  {
   "cell_type": "code",
   "execution_count": 46,
   "metadata": {},
   "outputs": [],
   "source": [
    "test = pd.read_excel(configfiles[0])"
   ]
  },
  {
   "cell_type": "code",
   "execution_count": 47,
   "metadata": {},
   "outputs": [
    {
     "data": {
      "text/html": [
       "<div>\n",
       "<style scoped>\n",
       "    .dataframe tbody tr th:only-of-type {\n",
       "        vertical-align: middle;\n",
       "    }\n",
       "\n",
       "    .dataframe tbody tr th {\n",
       "        vertical-align: top;\n",
       "    }\n",
       "\n",
       "    .dataframe thead th {\n",
       "        text-align: right;\n",
       "    }\n",
       "</style>\n",
       "<table border=\"1\" class=\"dataframe\">\n",
       "  <thead>\n",
       "    <tr style=\"text-align: right;\">\n",
       "      <th></th>\n",
       "      <th>'대여일자'</th>\n",
       "      <th>'대여시간'</th>\n",
       "      <th>'대여소번호'</th>\n",
       "      <th>'대여소'</th>\n",
       "      <th>'대여구분코드'</th>\n",
       "      <th>'성별'</th>\n",
       "      <th>'연령대코드'</th>\n",
       "      <th>'이용건수'</th>\n",
       "      <th>'운동량'</th>\n",
       "      <th>'탄소량'</th>\n",
       "      <th>'이동거리(M)'</th>\n",
       "      <th>'이동시간(분)'</th>\n",
       "    </tr>\n",
       "  </thead>\n",
       "  <tbody>\n",
       "    <tr>\n",
       "      <th>0</th>\n",
       "      <td>'2017-01-01'</td>\n",
       "      <td>'00'</td>\n",
       "      <td>'230'</td>\n",
       "      <td>' 영등포구청역 1번출구'</td>\n",
       "      <td>'정기'</td>\n",
       "      <td>'F'</td>\n",
       "      <td>'~10대'</td>\n",
       "      <td>1</td>\n",
       "      <td>31.27</td>\n",
       "      <td>0.39</td>\n",
       "      <td>1680</td>\n",
       "      <td>155</td>\n",
       "    </tr>\n",
       "    <tr>\n",
       "      <th>1</th>\n",
       "      <td>'2017-01-01'</td>\n",
       "      <td>'00'</td>\n",
       "      <td>'315'</td>\n",
       "      <td>' 신한은행 안국역지점 옆'</td>\n",
       "      <td>'정기'</td>\n",
       "      <td>'F'</td>\n",
       "      <td>'20대'</td>\n",
       "      <td>1</td>\n",
       "      <td>47.32</td>\n",
       "      <td>0.55</td>\n",
       "      <td>2390</td>\n",
       "      <td>15</td>\n",
       "    </tr>\n",
       "    <tr>\n",
       "      <th>2</th>\n",
       "      <td>'2017-01-01'</td>\n",
       "      <td>'00'</td>\n",
       "      <td>'328'</td>\n",
       "      <td>' 탑골공원 앞'</td>\n",
       "      <td>'정기'</td>\n",
       "      <td>'F'</td>\n",
       "      <td>'20대'</td>\n",
       "      <td>1</td>\n",
       "      <td>57.92</td>\n",
       "      <td>0.52</td>\n",
       "      <td>2250</td>\n",
       "      <td>13</td>\n",
       "    </tr>\n",
       "    <tr>\n",
       "      <th>3</th>\n",
       "      <td>'2017-01-01'</td>\n",
       "      <td>'00'</td>\n",
       "      <td>'175'</td>\n",
       "      <td>' 홍연2교옆'</td>\n",
       "      <td>'정기'</td>\n",
       "      <td>'F'</td>\n",
       "      <td>'20대'</td>\n",
       "      <td>1</td>\n",
       "      <td>133.29</td>\n",
       "      <td>1.53</td>\n",
       "      <td>6600</td>\n",
       "      <td>43</td>\n",
       "    </tr>\n",
       "    <tr>\n",
       "      <th>4</th>\n",
       "      <td>'2017-01-01'</td>\n",
       "      <td>'00'</td>\n",
       "      <td>'817'</td>\n",
       "      <td>' 삼각지역 4번출구 앞'</td>\n",
       "      <td>'정기'</td>\n",
       "      <td>'F'</td>\n",
       "      <td>'20대'</td>\n",
       "      <td>1</td>\n",
       "      <td>33.88</td>\n",
       "      <td>0.32</td>\n",
       "      <td>1380</td>\n",
       "      <td>8</td>\n",
       "    </tr>\n",
       "  </tbody>\n",
       "</table>\n",
       "</div>"
      ],
      "text/plain": [
       "         '대여일자' '대여시간' '대여소번호'            '대여소' '대여구분코드' '성별' '연령대코드'  '이용건수'  \\\n",
       "0  '2017-01-01'   '00'   '230'   ' 영등포구청역 1번출구'     '정기'  'F'  '~10대'       1   \n",
       "1  '2017-01-01'   '00'   '315'  ' 신한은행 안국역지점 옆'     '정기'  'F'   '20대'       1   \n",
       "2  '2017-01-01'   '00'   '328'        ' 탑골공원 앞'     '정기'  'F'   '20대'       1   \n",
       "3  '2017-01-01'   '00'   '175'         ' 홍연2교옆'     '정기'  'F'   '20대'       1   \n",
       "4  '2017-01-01'   '00'   '817'   ' 삼각지역 4번출구 앞'     '정기'  'F'   '20대'       1   \n",
       "\n",
       "    '운동량'  '탄소량'  '이동거리(M)'  '이동시간(분)'  \n",
       "0   31.27   0.39       1680        155  \n",
       "1   47.32   0.55       2390         15  \n",
       "2   57.92   0.52       2250         13  \n",
       "3  133.29   1.53       6600         43  \n",
       "4   33.88   0.32       1380          8  "
      ]
     },
     "execution_count": 47,
     "metadata": {},
     "output_type": "execute_result"
    }
   ],
   "source": [
    "test.head()"
   ]
  },
  {
   "cell_type": "code",
   "execution_count": 10,
   "metadata": {},
   "outputs": [
    {
     "name": "stdout",
     "output_type": "stream",
     "text": [
      "bike_2017_01\n",
      "bike_2017_02\n",
      "bike_2017_03\n",
      "bike_2017_04\n",
      "bike_2017_05\n",
      "bike_2017_06\n",
      "bike_2018_2019_01\n",
      "bike_2018_2019_02\n",
      "bike_2018_2019_03\n",
      "bike_2018_2019_04\n",
      "bike_2018_2019_05\n",
      "bike_2018_2019_06\n",
      "bike_2019_01\n",
      "bike_2019_02\n",
      "bike_2019_03\n",
      "bike_2019_04\n",
      "bike_2019_05\n",
      "bike_2019_06\n",
      "bike_2019_07\n",
      "bike_2019_08\n",
      "bike_2019_09\n",
      "bike_2019_10\n",
      "bike_2019_2020_01\n",
      "bike_2020_01\n"
     ]
    }
   ],
   "source": [
    "dfs = []\n",
    "\n",
    "for file in file_list:\n",
    "    dfs.append(pd.read_excel(file))\n",
    "    \n",
    "df = pd.concat(dfs, ignore_index=True)"
   ]
  },
  {
   "cell_type": "code",
   "execution_count": null,
   "metadata": {},
   "outputs": [],
   "source": []
  }
 ],
 "metadata": {
  "kernelspec": {
   "display_name": "Python 3",
   "language": "python",
   "name": "python3"
  },
  "language_info": {
   "codemirror_mode": {
    "name": "ipython",
    "version": 3
   },
   "file_extension": ".py",
   "mimetype": "text/x-python",
   "name": "python",
   "nbconvert_exporter": "python",
   "pygments_lexer": "ipython3",
   "version": "3.6.10"
  }
 },
 "nbformat": 4,
 "nbformat_minor": 4
}
