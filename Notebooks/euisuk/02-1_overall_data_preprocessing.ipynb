{
 "cells": [
  {
   "cell_type": "code",
   "execution_count": 1,
   "metadata": {
    "executionInfo": {
     "elapsed": 815,
     "status": "ok",
     "timestamp": 1606321644658,
     "user": {
      "displayName": "‍정의석[ 대학원석·박사통합과정재학 / 산업경영공학과 ]",
      "photoUrl": "https://lh3.googleusercontent.com/a-/AOh14GiJKY9HeQQobY1JOHH0EJtNJ5aMKtevxlcoIC0k=s64",
      "userId": "12106010245188766037"
     },
     "user_tz": -540
    },
    "id": "Sp61T7lAviwI"
   },
   "outputs": [],
   "source": [
    "import pandas as pd"
   ]
  },
  {
   "cell_type": "code",
   "execution_count": 4,
   "metadata": {
    "executionInfo": {
     "elapsed": 1849,
     "status": "ok",
     "timestamp": 1606321645713,
     "user": {
      "displayName": "‍정의석[ 대학원석·박사통합과정재학 / 산업경영공학과 ]",
      "photoUrl": "https://lh3.googleusercontent.com/a-/AOh14GiJKY9HeQQobY1JOHH0EJtNJ5aMKtevxlcoIC0k=s64",
      "userId": "12106010245188766037"
     },
     "user_tz": -540
    },
    "id": "FPiBnXjRICFn"
   },
   "outputs": [],
   "source": [
    "import os\n",
    "\n",
    "path = \"./\" # insert path\n",
    "file_list = os.listdir(path)\n",
    "file_list_xlsx = [file for file in file_list if file.endswith(\".xlsx\")]\n",
    "file_list_csv = [file for file in file_list if file.endswith(\".csv\")]"
   ]
  },
  {
   "cell_type": "code",
   "execution_count": 5,
   "metadata": {
    "colab": {
     "base_uri": "https://localhost:8080/"
    },
    "executionInfo": {
     "elapsed": 1845,
     "status": "ok",
     "timestamp": 1606321645715,
     "user": {
      "displayName": "‍정의석[ 대학원석·박사통합과정재학 / 산업경영공학과 ]",
      "photoUrl": "https://lh3.googleusercontent.com/a-/AOh14GiJKY9HeQQobY1JOHH0EJtNJ5aMKtevxlcoIC0k=s64",
      "userId": "12106010245188766037"
     },
     "user_tz": -540
    },
    "id": "CRd9FoBxIM_n",
    "outputId": "6c5f4ed4-f4dd-4201-c195-4ec9c1a887cb"
   },
   "outputs": [
    {
     "name": "stdout",
     "output_type": "stream",
     "text": [
      "file_list_csv: ['13_서울특별시 공공자전거 이용정보(시간대별)_201812_201905(6).csv', '1_서울특별시 공공자전거 이용정보(시간대별)_202006.csv', '2_서울특별시 공공자전거 이용정보(시간대별)_201912_202006.csv', '3_서울특별시 공공자전거 이용정보(시간대별)_20190601_20191130(10).csv', '4_서울특별시 공공자전거 이용정보(시간대별)_20190601_20191130(9).csv', '5_서울특별시 공공자전거 이용정보(시간대별)_20190601_20191130(8).csv', '7_서울특별시 공공자전거 이용정보(시간대별)_20190601_20191130(6).csv', '6_서울특별시 공공자전거 이용정보(시간대별)_20190601_20191130(7).csv', '8_서울특별시 공공자전거 이용정보(시간대별)_20190601_20191130(5).csv', '9_서울특별시 공공자전거 이용정보(시간대별)_20190601_20191130(4).csv', '10_서울특별시 공공자전거 이용정보(시간대별)_20190601_20191130(3).csv', '11_서울특별시 공공자전거 이용정보(시간대별)_20190601_20191130(2).csv', '15_서울특별시 공공자전거 이용정보(시간대별)_201812_201905(4).csv', '14_서울특별시 공공자전거 이용정보(시간대별)_201812_201905(5).csv', '12_서울특별시 공공자전거 이용정보(시간대별)_20190601_20191130(1).csv', '16_서울특별시 공공자전거 이용정보(시간대별)_201812_201905(3).csv', '17_서울특별시 공공자전거 이용정보(시간대별)_201812_201905(2).csv', '18_서울특별시 공공자전거 이용정보(시간대별)_201812_201905(1).csv']\n"
     ]
    }
   ],
   "source": [
    "print (\"file_list_csv: {}\".format(file_list_csv))"
   ]
  },
  {
   "cell_type": "code",
   "execution_count": 6,
   "metadata": {
    "colab": {
     "base_uri": "https://localhost:8080/"
    },
    "executionInfo": {
     "elapsed": 1839,
     "status": "ok",
     "timestamp": 1606321645715,
     "user": {
      "displayName": "‍정의석[ 대학원석·박사통합과정재학 / 산업경영공학과 ]",
      "photoUrl": "https://lh3.googleusercontent.com/a-/AOh14GiJKY9HeQQobY1JOHH0EJtNJ5aMKtevxlcoIC0k=s64",
      "userId": "12106010245188766037"
     },
     "user_tz": -540
    },
    "id": "Pim8Ay-mIP34",
    "outputId": "3f9b0e2b-f142-4d8a-aae3-fa8903c52733"
   },
   "outputs": [
    {
     "name": "stdout",
     "output_type": "stream",
     "text": [
      "file_list_xlsx: ['19_서울특별시 공공자전거 이용정보(시간대별)_201811.xlsx', '20_서울특별시 공공자전거 이용정보(시간대별)_201810.xlsx', '21_서울특별시 공공자전거 이용정보(시간대별)_201809.xlsx', '23_서울특별시 공공자전거 이용정보(시간대별)_201807.xlsx', '22_서울특별시 공공자전거 이용정보(시간대별)_201808.xlsx', '24_서울특별시 공공자전거 이용정보(시간대별)_201806.xlsx', '25_서울특별시 공공자전거 이용정보(시간대별)_201801_02.xlsx', '27_서울특별시 공공자전거 이용정보(시간대별)_201805.xlsx', '26_서울특별시 공공자전거 이용정보(시간대별)_201803_04.xlsx']\n"
     ]
    }
   ],
   "source": [
    "print (\"file_list_xlsx: {}\".format(file_list_xlsx))"
   ]
  },
  {
   "cell_type": "code",
   "execution_count": 7,
   "metadata": {
    "executionInfo": {
     "elapsed": 669096,
     "status": "ok",
     "timestamp": 1606322312978,
     "user": {
      "displayName": "‍정의석[ 대학원석·박사통합과정재학 / 산업경영공학과 ]",
      "photoUrl": "https://lh3.googleusercontent.com/a-/AOh14GiJKY9HeQQobY1JOHH0EJtNJ5aMKtevxlcoIC0k=s64",
      "userId": "12106010245188766037"
     },
     "user_tz": -540
    },
    "id": "2aS35sKpIViH"
   },
   "outputs": [],
   "source": [
    "dfs_excel = []\n",
    "\n",
    "for file in file_list_xlsx:\n",
    "    df_excel = pd.read_excel(file)\n",
    "    df_excel = df_excel[df_excel['대여소번호']==1308]\n",
    "    dfs_excel.append(df_excel)\n",
    "    \n",
    "df_excel = pd.concat(dfs_excel, ignore_index=True)"
   ]
  },
  {
   "cell_type": "code",
   "execution_count": 8,
   "metadata": {
    "colab": {
     "base_uri": "https://localhost:8080/"
    },
    "executionInfo": {
     "elapsed": 769872,
     "status": "ok",
     "timestamp": 1606322413758,
     "user": {
      "displayName": "‍정의석[ 대학원석·박사통합과정재학 / 산업경영공학과 ]",
      "photoUrl": "https://lh3.googleusercontent.com/a-/AOh14GiJKY9HeQQobY1JOHH0EJtNJ5aMKtevxlcoIC0k=s64",
      "userId": "12106010245188766037"
     },
     "user_tz": -540
    },
    "id": "sv3qpcdPIj-f",
    "outputId": "d97e9604-bbfb-4c52-aaab-5d5e4cefdcd9"
   },
   "outputs": [
    {
     "name": "stderr",
     "output_type": "stream",
     "text": [
      "/usr/local/lib/python3.6/dist-packages/IPython/core/interactiveshell.py:2718: DtypeWarning: Columns (8,9) have mixed types.Specify dtype option on import or set low_memory=False.\n",
      "  interactivity=interactivity, compiler=compiler, result=result)\n"
     ]
    }
   ],
   "source": [
    "dfs_csv = []\n",
    "\n",
    "for file in file_list_csv:\n",
    "    df_csv = pd.read_csv(file, encoding= 'cp949')\n",
    "    df_csv = df_csv[df_csv['대여소번호']==1308]\n",
    "    dfs_csv.append(df_csv)\n",
    "\n",
    "df_csv = pd.concat(dfs_csv, ignore_index=True)"
   ]
  },
  {
   "cell_type": "code",
   "execution_count": 9,
   "metadata": {
    "colab": {
     "base_uri": "https://localhost:8080/"
    },
    "executionInfo": {
     "elapsed": 717,
     "status": "ok",
     "timestamp": 1606322415617,
     "user": {
      "displayName": "‍정의석[ 대학원석·박사통합과정재학 / 산업경영공학과 ]",
      "photoUrl": "https://lh3.googleusercontent.com/a-/AOh14GiJKY9HeQQobY1JOHH0EJtNJ5aMKtevxlcoIC0k=s64",
      "userId": "12106010245188766037"
     },
     "user_tz": -540
    },
    "id": "nsjRzYbhPvCY",
    "outputId": "fc37b1cd-275b-48b0-9977-f43b566fcea7"
   },
   "outputs": [
    {
     "name": "stdout",
     "output_type": "stream",
     "text": [
      "df_excel\n",
      "(14921, 12)\n",
      "        대여일자  대여시간  대여소번호            대여소명  ...      운동량    탄소량    이동거리  이동시간\n",
      "0 2018-11-01     0   1308   안암로터리 버스정류장 앞  ...    82.83   0.62    2660    15\n",
      "1 2018-11-01     1   1308   안암로터리 버스정류장 앞  ...  3152.36  24.62  106140     6\n",
      "2 2018-11-01     2   1308   안암로터리 버스정류장 앞  ...    42.17   0.35    1500    12\n",
      "3 2018-11-01     3   1308   안암로터리 버스정류장 앞  ...    97.04   0.87    3770    19\n",
      "4 2018-11-01     6   1308   안암로터리 버스정류장 앞  ...    33.98   0.36    1560    11\n",
      "\n",
      "[5 rows x 12 columns]\n"
     ]
    }
   ],
   "source": [
    "print('df_excel')\n",
    "print(df_excel.shape)\n",
    "print(df_excel.head())"
   ]
  },
  {
   "cell_type": "code",
   "execution_count": 10,
   "metadata": {
    "colab": {
     "base_uri": "https://localhost:8080/"
    },
    "executionInfo": {
     "elapsed": 1027,
     "status": "ok",
     "timestamp": 1606322415935,
     "user": {
      "displayName": "‍정의석[ 대학원석·박사통합과정재학 / 산업경영공학과 ]",
      "photoUrl": "https://lh3.googleusercontent.com/a-/AOh14GiJKY9HeQQobY1JOHH0EJtNJ5aMKtevxlcoIC0k=s64",
      "userId": "12106010245188766037"
     },
     "user_tz": -540
    },
    "id": "5h6YFMHDP15I",
    "outputId": "ab3d4cfc-3b53-485c-9d47-1a36b3e729cc"
   },
   "outputs": [
    {
     "name": "stdout",
     "output_type": "stream",
     "text": [
      "df_csv\n",
      "(44999, 12)\n",
      "         대여일자  대여시간  대여소번호                 대여소명  ...    운동량   탄소량    이동거리  사용시간\n",
      "0  2019-02-27     0   1308  1308. 안암로터리 버스정류장 앞  ...   39.9  0.36  1550.0     9\n",
      "1  2019-02-27     0   1308  1308. 안암로터리 버스정류장 앞  ...  43.52  0.36  1570.0     7\n",
      "2  2019-02-27     1   1308  1308. 안암로터리 버스정류장 앞  ...  42.77  0.52  2250.0    12\n",
      "3  2019-02-27     1   1308  1308. 안암로터리 버스정류장 앞  ...  38.49  0.25  1080.0    57\n",
      "4  2019-02-27     1   1308  1308. 안암로터리 버스정류장 앞  ...  69.11  0.64  2770.0    13\n",
      "\n",
      "[5 rows x 12 columns]\n"
     ]
    }
   ],
   "source": [
    "print('df_csv')\n",
    "print(df_csv.shape)\n",
    "print(df_csv.head())"
   ]
  },
  {
   "cell_type": "code",
   "execution_count": 11,
   "metadata": {
    "executionInfo": {
     "elapsed": 969,
     "status": "ok",
     "timestamp": 1606322419348,
     "user": {
      "displayName": "‍정의석[ 대학원석·박사통합과정재학 / 산업경영공학과 ]",
      "photoUrl": "https://lh3.googleusercontent.com/a-/AOh14GiJKY9HeQQobY1JOHH0EJtNJ5aMKtevxlcoIC0k=s64",
      "userId": "12106010245188766037"
     },
     "user_tz": -540
    },
    "id": "3RAJjTj6P4dx"
   },
   "outputs": [],
   "source": [
    "df = pd.concat([df_excel, df_csv], ignore_index=True)"
   ]
  },
  {
   "cell_type": "code",
   "execution_count": 12,
   "metadata": {
    "colab": {
     "base_uri": "https://localhost:8080/"
    },
    "executionInfo": {
     "elapsed": 966,
     "status": "ok",
     "timestamp": 1606322419349,
     "user": {
      "displayName": "‍정의석[ 대학원석·박사통합과정재학 / 산업경영공학과 ]",
      "photoUrl": "https://lh3.googleusercontent.com/a-/AOh14GiJKY9HeQQobY1JOHH0EJtNJ5aMKtevxlcoIC0k=s64",
      "userId": "12106010245188766037"
     },
     "user_tz": -540
    },
    "id": "6sMHwNkPQbO7",
    "outputId": "ec1115e4-c6bc-4f28-d4a9-43a6781544f3"
   },
   "outputs": [
    {
     "name": "stdout",
     "output_type": "stream",
     "text": [
      "df\n",
      "(59920, 13)\n",
      "                  대여일자  대여시간  대여소번호  ...      이동거리  이동시간 사용시간\n",
      "0  2018-11-01 00:00:00     0   1308  ...    2660.0  15.0  NaN\n",
      "1  2018-11-01 00:00:00     1   1308  ...  106140.0   6.0  NaN\n",
      "2  2018-11-01 00:00:00     2   1308  ...    1500.0  12.0  NaN\n",
      "3  2018-11-01 00:00:00     3   1308  ...    3770.0  19.0  NaN\n",
      "4  2018-11-01 00:00:00     6   1308  ...    1560.0  11.0  NaN\n",
      "\n",
      "[5 rows x 13 columns]\n"
     ]
    }
   ],
   "source": [
    "print('df')\n",
    "print(df.shape)\n",
    "print(df.head())"
   ]
  },
  {
   "cell_type": "code",
   "execution_count": 13,
   "metadata": {
    "executionInfo": {
     "elapsed": 1008,
     "status": "ok",
     "timestamp": 1606322421419,
     "user": {
      "displayName": "‍정의석[ 대학원석·박사통합과정재학 / 산업경영공학과 ]",
      "photoUrl": "https://lh3.googleusercontent.com/a-/AOh14GiJKY9HeQQobY1JOHH0EJtNJ5aMKtevxlcoIC0k=s64",
      "userId": "12106010245188766037"
     },
     "user_tz": -540
    },
    "id": "qze-WEq5QfUI"
   },
   "outputs": [],
   "source": [
    "df.to_csv('data_extracted.csv')"
   ]
  },
  {
   "cell_type": "code",
   "execution_count": 14,
   "metadata": {
    "executionInfo": {
     "elapsed": 1985,
     "status": "ok",
     "timestamp": 1606322422400,
     "user": {
      "displayName": "‍정의석[ 대학원석·박사통합과정재학 / 산업경영공학과 ]",
      "photoUrl": "https://lh3.googleusercontent.com/a-/AOh14GiJKY9HeQQobY1JOHH0EJtNJ5aMKtevxlcoIC0k=s64",
      "userId": "12106010245188766037"
     },
     "user_tz": -540
    },
    "id": "1_GyYO8DQnze"
   },
   "outputs": [],
   "source": [
    "df.to_csv('data_extracted(cp949).csv', encoding = 'cp949')"
   ]
  },
  {
   "cell_type": "markdown",
   "metadata": {
    "id": "dV-4XjjkOxBF"
   },
   "source": [
    "### STOP"
   ]
  },
  {
   "cell_type": "code",
   "execution_count": 10,
   "metadata": {
    "executionInfo": {
     "elapsed": 27244,
     "status": "ok",
     "timestamp": 1606320532226,
     "user": {
      "displayName": "‍정의석[ 대학원석·박사통합과정재학 / 산업경영공학과 ]",
      "photoUrl": "https://lh3.googleusercontent.com/a-/AOh14GiJKY9HeQQobY1JOHH0EJtNJ5aMKtevxlcoIC0k=s64",
      "userId": "12106010245188766037"
     },
     "user_tz": -540
    },
    "id": "lJ0_HPT5v94R"
   },
   "outputs": [],
   "source": [
    "data = pd.read_csv('2_서울특별시 공공자전거 이용정보(시간대별)_201912_202006.csv', encoding= 'cp949')"
   ]
  },
  {
   "cell_type": "code",
   "execution_count": null,
   "metadata": {
    "colab": {
     "base_uri": "https://localhost:8080/"
    },
    "executionInfo": {
     "elapsed": 905,
     "status": "ok",
     "timestamp": 1606297098873,
     "user": {
      "displayName": "‍정의석[ 대학원석·박사통합과정재학 / 산업경영공학과 ]",
      "photoUrl": "https://lh3.googleusercontent.com/a-/AOh14GiJKY9HeQQobY1JOHH0EJtNJ5aMKtevxlcoIC0k=s64",
      "userId": "12106010245188766037"
     },
     "user_tz": -540
    },
    "id": "xZqkGW2HwSO-",
    "outputId": "93be7577-219d-4188-cadd-c61a035a128d"
   },
   "outputs": [
    {
     "data": {
      "text/plain": [
       "(6894866, 12)"
      ]
     },
     "execution_count": 12,
     "metadata": {
      "tags": []
     },
     "output_type": "execute_result"
    }
   ],
   "source": [
    "data.shape"
   ]
  },
  {
   "cell_type": "code",
   "execution_count": null,
   "metadata": {
    "colab": {
     "base_uri": "https://localhost:8080/",
     "height": 198
    },
    "executionInfo": {
     "elapsed": 1147,
     "status": "ok",
     "timestamp": 1606297558817,
     "user": {
      "displayName": "‍정의석[ 대학원석·박사통합과정재학 / 산업경영공학과 ]",
      "photoUrl": "https://lh3.googleusercontent.com/a-/AOh14GiJKY9HeQQobY1JOHH0EJtNJ5aMKtevxlcoIC0k=s64",
      "userId": "12106010245188766037"
     },
     "user_tz": -540
    },
    "id": "c-slTNZByjyN",
    "outputId": "f8c146c9-2282-4b54-9fc1-5c14adcfb7ee"
   },
   "outputs": [
    {
     "data": {
      "text/html": [
       "<div>\n",
       "<style scoped>\n",
       "    .dataframe tbody tr th:only-of-type {\n",
       "        vertical-align: middle;\n",
       "    }\n",
       "\n",
       "    .dataframe tbody tr th {\n",
       "        vertical-align: top;\n",
       "    }\n",
       "\n",
       "    .dataframe thead th {\n",
       "        text-align: right;\n",
       "    }\n",
       "</style>\n",
       "<table border=\"1\" class=\"dataframe\">\n",
       "  <thead>\n",
       "    <tr style=\"text-align: right;\">\n",
       "      <th></th>\n",
       "      <th>대여일자</th>\n",
       "      <th>대여시간</th>\n",
       "      <th>대여소번호</th>\n",
       "      <th>대여소명</th>\n",
       "      <th>대여구분코드</th>\n",
       "      <th>성별</th>\n",
       "      <th>연령대코드</th>\n",
       "      <th>이용건수</th>\n",
       "      <th>운동량</th>\n",
       "      <th>탄소량</th>\n",
       "      <th>이동거리</th>\n",
       "      <th>사용시간</th>\n",
       "    </tr>\n",
       "  </thead>\n",
       "  <tbody>\n",
       "    <tr>\n",
       "      <th>0</th>\n",
       "      <td>2019-12-01</td>\n",
       "      <td>0</td>\n",
       "      <td>504</td>\n",
       "      <td>504. 신자초교입구교차로</td>\n",
       "      <td>정기권</td>\n",
       "      <td>NaN</td>\n",
       "      <td>~10대</td>\n",
       "      <td>3</td>\n",
       "      <td>74.84</td>\n",
       "      <td>0.67</td>\n",
       "      <td>2880.0</td>\n",
       "      <td>17</td>\n",
       "    </tr>\n",
       "    <tr>\n",
       "      <th>1</th>\n",
       "      <td>2019-12-01</td>\n",
       "      <td>0</td>\n",
       "      <td>1029</td>\n",
       "      <td>1029. 롯데 시네마</td>\n",
       "      <td>정기권</td>\n",
       "      <td>NaN</td>\n",
       "      <td>~10대</td>\n",
       "      <td>1</td>\n",
       "      <td>246.71</td>\n",
       "      <td>2.06</td>\n",
       "      <td>8900.0</td>\n",
       "      <td>45</td>\n",
       "    </tr>\n",
       "    <tr>\n",
       "      <th>2</th>\n",
       "      <td>2019-12-01</td>\n",
       "      <td>0</td>\n",
       "      <td>1153</td>\n",
       "      <td>1153. 발산역 1번, 9번 인근 대여소</td>\n",
       "      <td>정기권</td>\n",
       "      <td>NaN</td>\n",
       "      <td>~10대</td>\n",
       "      <td>1</td>\n",
       "      <td>25.60</td>\n",
       "      <td>0.23</td>\n",
       "      <td>1010.0</td>\n",
       "      <td>12</td>\n",
       "    </tr>\n",
       "    <tr>\n",
       "      <th>3</th>\n",
       "      <td>2019-12-01</td>\n",
       "      <td>0</td>\n",
       "      <td>512</td>\n",
       "      <td>512. 뚝섬역 1번 출구 옆</td>\n",
       "      <td>정기권</td>\n",
       "      <td>NaN</td>\n",
       "      <td>~10대</td>\n",
       "      <td>1</td>\n",
       "      <td>78.59</td>\n",
       "      <td>0.73</td>\n",
       "      <td>3150.0</td>\n",
       "      <td>17</td>\n",
       "    </tr>\n",
       "    <tr>\n",
       "      <th>4</th>\n",
       "      <td>2019-12-01</td>\n",
       "      <td>0</td>\n",
       "      <td>1528</td>\n",
       "      <td>1528. 삼각산동 주민센터</td>\n",
       "      <td>정기권</td>\n",
       "      <td>NaN</td>\n",
       "      <td>~10대</td>\n",
       "      <td>1</td>\n",
       "      <td>26.15</td>\n",
       "      <td>0.22</td>\n",
       "      <td>930.0</td>\n",
       "      <td>5</td>\n",
       "    </tr>\n",
       "  </tbody>\n",
       "</table>\n",
       "</div>"
      ],
      "text/plain": [
       "         대여일자  대여시간  대여소번호                     대여소명  ...     운동량   탄소량    이동거리  사용시간\n",
       "0  2019-12-01     0    504           504. 신자초교입구교차로  ...   74.84  0.67  2880.0    17\n",
       "1  2019-12-01     0   1029             1029. 롯데 시네마  ...  246.71  2.06  8900.0    45\n",
       "2  2019-12-01     0   1153  1153. 발산역 1번, 9번 인근 대여소  ...   25.60  0.23  1010.0    12\n",
       "3  2019-12-01     0    512         512. 뚝섬역 1번 출구 옆  ...   78.59  0.73  3150.0    17\n",
       "4  2019-12-01     0   1528          1528. 삼각산동 주민센터  ...   26.15  0.22   930.0     5\n",
       "\n",
       "[5 rows x 12 columns]"
      ]
     },
     "execution_count": 15,
     "metadata": {
      "tags": []
     },
     "output_type": "execute_result"
    }
   ],
   "source": [
    "data.head()"
   ]
  },
  {
   "cell_type": "code",
   "execution_count": null,
   "metadata": {
    "colab": {
     "base_uri": "https://localhost:8080/",
     "height": 302
    },
    "executionInfo": {
     "elapsed": 1211,
     "status": "ok",
     "timestamp": 1606297579280,
     "user": {
      "displayName": "‍정의석[ 대학원석·박사통합과정재학 / 산업경영공학과 ]",
      "photoUrl": "https://lh3.googleusercontent.com/a-/AOh14GiJKY9HeQQobY1JOHH0EJtNJ5aMKtevxlcoIC0k=s64",
      "userId": "12106010245188766037"
     },
     "user_tz": -540
    },
    "id": "WptI6cuKy5pF",
    "outputId": "905858d9-03fc-412c-d770-35969b8664a0"
   },
   "outputs": [
    {
     "data": {
      "text/html": [
       "<div>\n",
       "<style scoped>\n",
       "    .dataframe tbody tr th:only-of-type {\n",
       "        vertical-align: middle;\n",
       "    }\n",
       "\n",
       "    .dataframe tbody tr th {\n",
       "        vertical-align: top;\n",
       "    }\n",
       "\n",
       "    .dataframe thead th {\n",
       "        text-align: right;\n",
       "    }\n",
       "</style>\n",
       "<table border=\"1\" class=\"dataframe\">\n",
       "  <thead>\n",
       "    <tr style=\"text-align: right;\">\n",
       "      <th></th>\n",
       "      <th>대여일자</th>\n",
       "      <th>대여시간</th>\n",
       "      <th>대여소번호</th>\n",
       "      <th>대여소명</th>\n",
       "      <th>대여구분코드</th>\n",
       "      <th>성별</th>\n",
       "      <th>연령대코드</th>\n",
       "      <th>이용건수</th>\n",
       "      <th>운동량</th>\n",
       "      <th>탄소량</th>\n",
       "      <th>이동거리</th>\n",
       "      <th>사용시간</th>\n",
       "    </tr>\n",
       "  </thead>\n",
       "  <tbody>\n",
       "    <tr>\n",
       "      <th>6894861</th>\n",
       "      <td>2020-05-31</td>\n",
       "      <td>23</td>\n",
       "      <td>1610</td>\n",
       "      <td>1610. 화랑대역 2번출구 앞</td>\n",
       "      <td>일일권</td>\n",
       "      <td>M</td>\n",
       "      <td>30대</td>\n",
       "      <td>1</td>\n",
       "      <td>231.20</td>\n",
       "      <td>1.65</td>\n",
       "      <td>7120.0</td>\n",
       "      <td>34</td>\n",
       "    </tr>\n",
       "    <tr>\n",
       "      <th>6894862</th>\n",
       "      <td>2020-05-31</td>\n",
       "      <td>23</td>\n",
       "      <td>2318</td>\n",
       "      <td>2318. 삼성중앙역4번출구(문화센터더 리빌)</td>\n",
       "      <td>일일권</td>\n",
       "      <td>M</td>\n",
       "      <td>30대</td>\n",
       "      <td>1</td>\n",
       "      <td>175.53</td>\n",
       "      <td>1.37</td>\n",
       "      <td>5910.0</td>\n",
       "      <td>40</td>\n",
       "    </tr>\n",
       "    <tr>\n",
       "      <th>6894863</th>\n",
       "      <td>2020-05-31</td>\n",
       "      <td>23</td>\n",
       "      <td>2329</td>\n",
       "      <td>2329. 르네상스호텔사거리 역삼지하보도 2번출구</td>\n",
       "      <td>일일권</td>\n",
       "      <td>M</td>\n",
       "      <td>30대</td>\n",
       "      <td>1</td>\n",
       "      <td>0.00</td>\n",
       "      <td>0.00</td>\n",
       "      <td>0.0</td>\n",
       "      <td>20</td>\n",
       "    </tr>\n",
       "    <tr>\n",
       "      <th>6894864</th>\n",
       "      <td>2020-05-31</td>\n",
       "      <td>23</td>\n",
       "      <td>1450</td>\n",
       "      <td>1450. 화랑대역 7번출구</td>\n",
       "      <td>일일권</td>\n",
       "      <td>M</td>\n",
       "      <td>40대</td>\n",
       "      <td>1</td>\n",
       "      <td>0.00</td>\n",
       "      <td>0.00</td>\n",
       "      <td>0.0</td>\n",
       "      <td>5</td>\n",
       "    </tr>\n",
       "    <tr>\n",
       "      <th>6894865</th>\n",
       "      <td>2020-05-31</td>\n",
       "      <td>23</td>\n",
       "      <td>2418</td>\n",
       "      <td>2418.봉은사역 7번 출구</td>\n",
       "      <td>단체권</td>\n",
       "      <td>M</td>\n",
       "      <td>20대</td>\n",
       "      <td>1</td>\n",
       "      <td>0.00</td>\n",
       "      <td>0.00</td>\n",
       "      <td>0.0</td>\n",
       "      <td>12</td>\n",
       "    </tr>\n",
       "  </tbody>\n",
       "</table>\n",
       "</div>"
      ],
      "text/plain": [
       "               대여일자  대여시간  대여소번호  ...   탄소량    이동거리 사용시간\n",
       "6894861  2020-05-31    23   1610  ...  1.65  7120.0   34\n",
       "6894862  2020-05-31    23   2318  ...  1.37  5910.0   40\n",
       "6894863  2020-05-31    23   2329  ...  0.00     0.0   20\n",
       "6894864  2020-05-31    23   1450  ...  0.00     0.0    5\n",
       "6894865  2020-05-31    23   2418  ...  0.00     0.0   12\n",
       "\n",
       "[5 rows x 12 columns]"
      ]
     },
     "execution_count": 16,
     "metadata": {
      "tags": []
     },
     "output_type": "execute_result"
    }
   ],
   "source": [
    "data.tail()"
   ]
  },
  {
   "cell_type": "code",
   "execution_count": null,
   "metadata": {
    "id": "orfl-Iady-ZV"
   },
   "outputs": [],
   "source": []
  }
 ],
 "metadata": {
  "colab": {
   "authorship_tag": "ABX9TyN9nHFn4DP109vWODMsXEFH",
   "collapsed_sections": [],
   "mount_file_id": "16V3_yD-bibuAsceOgTUk4dFYcvxIStev",
   "name": "data_split_tool.ipynb",
   "provenance": []
  },
  "kernelspec": {
   "display_name": "Python 3",
   "language": "python",
   "name": "python3"
  },
  "language_info": {
   "codemirror_mode": {
    "name": "ipython",
    "version": 3
   },
   "file_extension": ".py",
   "mimetype": "text/x-python",
   "name": "python",
   "nbconvert_exporter": "python",
   "pygments_lexer": "ipython3",
   "version": "3.6.10"
  }
 },
 "nbformat": 4,
 "nbformat_minor": 1
}
